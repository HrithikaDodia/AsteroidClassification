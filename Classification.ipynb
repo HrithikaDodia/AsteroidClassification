{
  "nbformat": 4,
  "nbformat_minor": 0,
  "metadata": {
    "colab": {
      "name": "Classification.ipynb",
      "provenance": [],
      "collapsed_sections": []
    },
    "kernelspec": {
      "name": "python3",
      "display_name": "Python 3"
    }
  },
  "cells": [
    {
      "cell_type": "code",
      "metadata": {
        "id": "71SFGygTuXVg",
        "colab_type": "code",
        "colab": {
          "base_uri": "https://localhost:8080/",
          "height": 67
        },
        "outputId": "4352b70d-c39c-4e4d-8be6-ed222b2a127d"
      },
      "source": [
        "! kaggle datasets download -d shrutimehta/nasa-asteroids-classification"
      ],
      "execution_count": 7,
      "outputs": [
        {
          "output_type": "stream",
          "text": [
            "Downloading nasa-asteroids-classification.zip to /content\n",
            "\r  0% 0.00/3.27M [00:00<?, ?B/s]\n",
            "\r100% 3.27M/3.27M [00:00<00:00, 105MB/s]\n"
          ],
          "name": "stdout"
        }
      ]
    },
    {
      "cell_type": "code",
      "metadata": {
        "id": "ls-X_E1uucO8",
        "colab_type": "code",
        "colab": {}
      },
      "source": [
        "!unzip \\*.zip"
      ],
      "execution_count": null,
      "outputs": []
    },
    {
      "cell_type": "code",
      "metadata": {
        "id": "fKnbeV32uqHU",
        "colab_type": "code",
        "colab": {}
      },
      "source": [
        "import pandas as pd"
      ],
      "execution_count": 60,
      "outputs": []
    },
    {
      "cell_type": "code",
      "metadata": {
        "id": "aENIjXDPux87",
        "colab_type": "code",
        "colab": {}
      },
      "source": [
        "df = pd.read_csv('/content/nasa.csv')"
      ],
      "execution_count": 61,
      "outputs": []
    },
    {
      "cell_type": "code",
      "metadata": {
        "id": "TeXHNyFtu4jH",
        "colab_type": "code",
        "colab": {
          "base_uri": "https://localhost:8080/",
          "height": 583
        },
        "outputId": "1eb3c69c-b957-4ff7-ee74-377db6f04f76"
      },
      "source": [
        "df.head(10)"
      ],
      "execution_count": 62,
      "outputs": [
        {
          "output_type": "execute_result",
          "data": {
            "text/html": [
              "<div>\n",
              "<style scoped>\n",
              "    .dataframe tbody tr th:only-of-type {\n",
              "        vertical-align: middle;\n",
              "    }\n",
              "\n",
              "    .dataframe tbody tr th {\n",
              "        vertical-align: top;\n",
              "    }\n",
              "\n",
              "    .dataframe thead th {\n",
              "        text-align: right;\n",
              "    }\n",
              "</style>\n",
              "<table border=\"1\" class=\"dataframe\">\n",
              "  <thead>\n",
              "    <tr style=\"text-align: right;\">\n",
              "      <th></th>\n",
              "      <th>Neo Reference ID</th>\n",
              "      <th>Name</th>\n",
              "      <th>Absolute Magnitude</th>\n",
              "      <th>Est Dia in KM(min)</th>\n",
              "      <th>Est Dia in KM(max)</th>\n",
              "      <th>Est Dia in M(min)</th>\n",
              "      <th>Est Dia in M(max)</th>\n",
              "      <th>Est Dia in Miles(min)</th>\n",
              "      <th>Est Dia in Miles(max)</th>\n",
              "      <th>Est Dia in Feet(min)</th>\n",
              "      <th>Est Dia in Feet(max)</th>\n",
              "      <th>Close Approach Date</th>\n",
              "      <th>Epoch Date Close Approach</th>\n",
              "      <th>Relative Velocity km per sec</th>\n",
              "      <th>Relative Velocity km per hr</th>\n",
              "      <th>Miles per hour</th>\n",
              "      <th>Miss Dist.(Astronomical)</th>\n",
              "      <th>Miss Dist.(lunar)</th>\n",
              "      <th>Miss Dist.(kilometers)</th>\n",
              "      <th>Miss Dist.(miles)</th>\n",
              "      <th>Orbiting Body</th>\n",
              "      <th>Orbit ID</th>\n",
              "      <th>Orbit Determination Date</th>\n",
              "      <th>Orbit Uncertainity</th>\n",
              "      <th>Minimum Orbit Intersection</th>\n",
              "      <th>Jupiter Tisserand Invariant</th>\n",
              "      <th>Epoch Osculation</th>\n",
              "      <th>Eccentricity</th>\n",
              "      <th>Semi Major Axis</th>\n",
              "      <th>Inclination</th>\n",
              "      <th>Asc Node Longitude</th>\n",
              "      <th>Orbital Period</th>\n",
              "      <th>Perihelion Distance</th>\n",
              "      <th>Perihelion Arg</th>\n",
              "      <th>Aphelion Dist</th>\n",
              "      <th>Perihelion Time</th>\n",
              "      <th>Mean Anomaly</th>\n",
              "      <th>Mean Motion</th>\n",
              "      <th>Equinox</th>\n",
              "      <th>Hazardous</th>\n",
              "    </tr>\n",
              "  </thead>\n",
              "  <tbody>\n",
              "    <tr>\n",
              "      <th>0</th>\n",
              "      <td>3703080</td>\n",
              "      <td>3703080</td>\n",
              "      <td>21.6</td>\n",
              "      <td>0.127220</td>\n",
              "      <td>0.284472</td>\n",
              "      <td>127.219879</td>\n",
              "      <td>284.472297</td>\n",
              "      <td>0.079051</td>\n",
              "      <td>0.176763</td>\n",
              "      <td>417.388066</td>\n",
              "      <td>933.308089</td>\n",
              "      <td>1995-01-01</td>\n",
              "      <td>788947200000</td>\n",
              "      <td>6.115834</td>\n",
              "      <td>22017.003799</td>\n",
              "      <td>13680.509944</td>\n",
              "      <td>0.419483</td>\n",
              "      <td>163.178711</td>\n",
              "      <td>62753692.0</td>\n",
              "      <td>38993336.0</td>\n",
              "      <td>Earth</td>\n",
              "      <td>17</td>\n",
              "      <td>2017-04-06 08:36:37</td>\n",
              "      <td>5</td>\n",
              "      <td>0.025282</td>\n",
              "      <td>4.634</td>\n",
              "      <td>2458000.5</td>\n",
              "      <td>0.425549</td>\n",
              "      <td>1.407011</td>\n",
              "      <td>6.025981</td>\n",
              "      <td>314.373913</td>\n",
              "      <td>609.599786</td>\n",
              "      <td>0.808259</td>\n",
              "      <td>57.257470</td>\n",
              "      <td>2.005764</td>\n",
              "      <td>2.458162e+06</td>\n",
              "      <td>264.837533</td>\n",
              "      <td>0.590551</td>\n",
              "      <td>J2000</td>\n",
              "      <td>True</td>\n",
              "    </tr>\n",
              "    <tr>\n",
              "      <th>1</th>\n",
              "      <td>3723955</td>\n",
              "      <td>3723955</td>\n",
              "      <td>21.3</td>\n",
              "      <td>0.146068</td>\n",
              "      <td>0.326618</td>\n",
              "      <td>146.067964</td>\n",
              "      <td>326.617897</td>\n",
              "      <td>0.090762</td>\n",
              "      <td>0.202951</td>\n",
              "      <td>479.225620</td>\n",
              "      <td>1071.581063</td>\n",
              "      <td>1995-01-01</td>\n",
              "      <td>788947200000</td>\n",
              "      <td>18.113985</td>\n",
              "      <td>65210.346095</td>\n",
              "      <td>40519.173105</td>\n",
              "      <td>0.383014</td>\n",
              "      <td>148.992630</td>\n",
              "      <td>57298148.0</td>\n",
              "      <td>35603420.0</td>\n",
              "      <td>Earth</td>\n",
              "      <td>21</td>\n",
              "      <td>2017-04-06 08:32:49</td>\n",
              "      <td>3</td>\n",
              "      <td>0.186935</td>\n",
              "      <td>5.457</td>\n",
              "      <td>2458000.5</td>\n",
              "      <td>0.351674</td>\n",
              "      <td>1.107776</td>\n",
              "      <td>28.412996</td>\n",
              "      <td>136.717242</td>\n",
              "      <td>425.869294</td>\n",
              "      <td>0.718200</td>\n",
              "      <td>313.091975</td>\n",
              "      <td>1.497352</td>\n",
              "      <td>2.457795e+06</td>\n",
              "      <td>173.741112</td>\n",
              "      <td>0.845330</td>\n",
              "      <td>J2000</td>\n",
              "      <td>False</td>\n",
              "    </tr>\n",
              "    <tr>\n",
              "      <th>2</th>\n",
              "      <td>2446862</td>\n",
              "      <td>2446862</td>\n",
              "      <td>20.3</td>\n",
              "      <td>0.231502</td>\n",
              "      <td>0.517654</td>\n",
              "      <td>231.502122</td>\n",
              "      <td>517.654482</td>\n",
              "      <td>0.143849</td>\n",
              "      <td>0.321655</td>\n",
              "      <td>759.521423</td>\n",
              "      <td>1698.341531</td>\n",
              "      <td>1995-01-08</td>\n",
              "      <td>789552000000</td>\n",
              "      <td>7.590711</td>\n",
              "      <td>27326.560182</td>\n",
              "      <td>16979.661798</td>\n",
              "      <td>0.050956</td>\n",
              "      <td>19.821890</td>\n",
              "      <td>7622911.5</td>\n",
              "      <td>4736657.5</td>\n",
              "      <td>Earth</td>\n",
              "      <td>22</td>\n",
              "      <td>2017-04-06 09:20:19</td>\n",
              "      <td>0</td>\n",
              "      <td>0.043058</td>\n",
              "      <td>4.557</td>\n",
              "      <td>2458000.5</td>\n",
              "      <td>0.348248</td>\n",
              "      <td>1.458824</td>\n",
              "      <td>4.237961</td>\n",
              "      <td>259.475979</td>\n",
              "      <td>643.580228</td>\n",
              "      <td>0.950791</td>\n",
              "      <td>248.415038</td>\n",
              "      <td>1.966857</td>\n",
              "      <td>2.458120e+06</td>\n",
              "      <td>292.893654</td>\n",
              "      <td>0.559371</td>\n",
              "      <td>J2000</td>\n",
              "      <td>True</td>\n",
              "    </tr>\n",
              "    <tr>\n",
              "      <th>3</th>\n",
              "      <td>3092506</td>\n",
              "      <td>3092506</td>\n",
              "      <td>27.4</td>\n",
              "      <td>0.008801</td>\n",
              "      <td>0.019681</td>\n",
              "      <td>8.801465</td>\n",
              "      <td>19.680675</td>\n",
              "      <td>0.005469</td>\n",
              "      <td>0.012229</td>\n",
              "      <td>28.876199</td>\n",
              "      <td>64.569144</td>\n",
              "      <td>1995-01-15</td>\n",
              "      <td>790156800000</td>\n",
              "      <td>11.173874</td>\n",
              "      <td>40225.948191</td>\n",
              "      <td>24994.839864</td>\n",
              "      <td>0.285322</td>\n",
              "      <td>110.990387</td>\n",
              "      <td>42683616.0</td>\n",
              "      <td>26522368.0</td>\n",
              "      <td>Earth</td>\n",
              "      <td>7</td>\n",
              "      <td>2017-04-06 09:15:49</td>\n",
              "      <td>6</td>\n",
              "      <td>0.005512</td>\n",
              "      <td>5.093</td>\n",
              "      <td>2458000.5</td>\n",
              "      <td>0.216578</td>\n",
              "      <td>1.255903</td>\n",
              "      <td>7.905894</td>\n",
              "      <td>57.173266</td>\n",
              "      <td>514.082140</td>\n",
              "      <td>0.983902</td>\n",
              "      <td>18.707701</td>\n",
              "      <td>1.527904</td>\n",
              "      <td>2.457902e+06</td>\n",
              "      <td>68.741007</td>\n",
              "      <td>0.700277</td>\n",
              "      <td>J2000</td>\n",
              "      <td>False</td>\n",
              "    </tr>\n",
              "    <tr>\n",
              "      <th>4</th>\n",
              "      <td>3514799</td>\n",
              "      <td>3514799</td>\n",
              "      <td>21.6</td>\n",
              "      <td>0.127220</td>\n",
              "      <td>0.284472</td>\n",
              "      <td>127.219879</td>\n",
              "      <td>284.472297</td>\n",
              "      <td>0.079051</td>\n",
              "      <td>0.176763</td>\n",
              "      <td>417.388066</td>\n",
              "      <td>933.308089</td>\n",
              "      <td>1995-01-15</td>\n",
              "      <td>790156800000</td>\n",
              "      <td>9.840831</td>\n",
              "      <td>35426.991794</td>\n",
              "      <td>22012.954985</td>\n",
              "      <td>0.407832</td>\n",
              "      <td>158.646713</td>\n",
              "      <td>61010824.0</td>\n",
              "      <td>37910368.0</td>\n",
              "      <td>Earth</td>\n",
              "      <td>25</td>\n",
              "      <td>2017-04-06 08:57:58</td>\n",
              "      <td>1</td>\n",
              "      <td>0.034798</td>\n",
              "      <td>5.154</td>\n",
              "      <td>2458000.5</td>\n",
              "      <td>0.210448</td>\n",
              "      <td>1.225615</td>\n",
              "      <td>16.793382</td>\n",
              "      <td>84.629307</td>\n",
              "      <td>495.597821</td>\n",
              "      <td>0.967687</td>\n",
              "      <td>158.263596</td>\n",
              "      <td>1.483543</td>\n",
              "      <td>2.457814e+06</td>\n",
              "      <td>135.142133</td>\n",
              "      <td>0.726395</td>\n",
              "      <td>J2000</td>\n",
              "      <td>True</td>\n",
              "    </tr>\n",
              "    <tr>\n",
              "      <th>5</th>\n",
              "      <td>3671135</td>\n",
              "      <td>3671135</td>\n",
              "      <td>19.6</td>\n",
              "      <td>0.319562</td>\n",
              "      <td>0.714562</td>\n",
              "      <td>319.561887</td>\n",
              "      <td>714.562102</td>\n",
              "      <td>0.198566</td>\n",
              "      <td>0.444008</td>\n",
              "      <td>1048.431420</td>\n",
              "      <td>2344.363926</td>\n",
              "      <td>1995-01-15</td>\n",
              "      <td>790156800000</td>\n",
              "      <td>10.808844</td>\n",
              "      <td>38911.838251</td>\n",
              "      <td>24178.303051</td>\n",
              "      <td>0.392785</td>\n",
              "      <td>152.793274</td>\n",
              "      <td>58759768.0</td>\n",
              "      <td>36511628.0</td>\n",
              "      <td>Earth</td>\n",
              "      <td>40</td>\n",
              "      <td>2017-06-04 06:16:52</td>\n",
              "      <td>1</td>\n",
              "      <td>0.272213</td>\n",
              "      <td>4.724</td>\n",
              "      <td>2458000.5</td>\n",
              "      <td>0.563441</td>\n",
              "      <td>1.323532</td>\n",
              "      <td>17.927751</td>\n",
              "      <td>178.971951</td>\n",
              "      <td>556.160556</td>\n",
              "      <td>0.577800</td>\n",
              "      <td>198.145969</td>\n",
              "      <td>2.069265</td>\n",
              "      <td>2.458009e+06</td>\n",
              "      <td>354.237368</td>\n",
              "      <td>0.647295</td>\n",
              "      <td>J2000</td>\n",
              "      <td>False</td>\n",
              "    </tr>\n",
              "    <tr>\n",
              "      <th>6</th>\n",
              "      <td>2495323</td>\n",
              "      <td>2495323</td>\n",
              "      <td>19.6</td>\n",
              "      <td>0.319562</td>\n",
              "      <td>0.714562</td>\n",
              "      <td>319.561887</td>\n",
              "      <td>714.562102</td>\n",
              "      <td>0.198566</td>\n",
              "      <td>0.444008</td>\n",
              "      <td>1048.431420</td>\n",
              "      <td>2344.363926</td>\n",
              "      <td>1995-01-15</td>\n",
              "      <td>790156800000</td>\n",
              "      <td>10.808842</td>\n",
              "      <td>38911.829716</td>\n",
              "      <td>24178.297748</td>\n",
              "      <td>0.392783</td>\n",
              "      <td>152.792664</td>\n",
              "      <td>58759532.0</td>\n",
              "      <td>36511480.0</td>\n",
              "      <td>Earth</td>\n",
              "      <td>43</td>\n",
              "      <td>2017-06-28 06:19:25</td>\n",
              "      <td>1</td>\n",
              "      <td>0.272213</td>\n",
              "      <td>4.724</td>\n",
              "      <td>2458000.5</td>\n",
              "      <td>0.563441</td>\n",
              "      <td>1.323532</td>\n",
              "      <td>17.927748</td>\n",
              "      <td>178.971953</td>\n",
              "      <td>556.160544</td>\n",
              "      <td>0.577800</td>\n",
              "      <td>198.145960</td>\n",
              "      <td>2.069265</td>\n",
              "      <td>2.458009e+06</td>\n",
              "      <td>354.237396</td>\n",
              "      <td>0.647295</td>\n",
              "      <td>J2000</td>\n",
              "      <td>False</td>\n",
              "    </tr>\n",
              "    <tr>\n",
              "      <th>7</th>\n",
              "      <td>2153315</td>\n",
              "      <td>2153315</td>\n",
              "      <td>19.2</td>\n",
              "      <td>0.384198</td>\n",
              "      <td>0.859093</td>\n",
              "      <td>384.197891</td>\n",
              "      <td>859.092601</td>\n",
              "      <td>0.238729</td>\n",
              "      <td>0.533815</td>\n",
              "      <td>1260.491809</td>\n",
              "      <td>2818.545370</td>\n",
              "      <td>1995-01-22</td>\n",
              "      <td>790761600000</td>\n",
              "      <td>24.421884</td>\n",
              "      <td>87918.782382</td>\n",
              "      <td>54629.312308</td>\n",
              "      <td>0.129179</td>\n",
              "      <td>50.250694</td>\n",
              "      <td>19324928.0</td>\n",
              "      <td>12007954.0</td>\n",
              "      <td>Earth</td>\n",
              "      <td>22</td>\n",
              "      <td>2017-04-06 09:27:05</td>\n",
              "      <td>0</td>\n",
              "      <td>0.098758</td>\n",
              "      <td>4.921</td>\n",
              "      <td>2458000.5</td>\n",
              "      <td>0.449763</td>\n",
              "      <td>1.237475</td>\n",
              "      <td>34.695127</td>\n",
              "      <td>112.562984</td>\n",
              "      <td>502.808758</td>\n",
              "      <td>0.680905</td>\n",
              "      <td>288.374651</td>\n",
              "      <td>1.794045</td>\n",
              "      <td>2.458242e+06</td>\n",
              "      <td>186.776932</td>\n",
              "      <td>0.715978</td>\n",
              "      <td>J2000</td>\n",
              "      <td>False</td>\n",
              "    </tr>\n",
              "    <tr>\n",
              "      <th>8</th>\n",
              "      <td>2162463</td>\n",
              "      <td>2162463</td>\n",
              "      <td>17.8</td>\n",
              "      <td>0.732074</td>\n",
              "      <td>1.636967</td>\n",
              "      <td>732.073989</td>\n",
              "      <td>1636.967205</td>\n",
              "      <td>0.454890</td>\n",
              "      <td>1.017164</td>\n",
              "      <td>2401.817627</td>\n",
              "      <td>5370.627484</td>\n",
              "      <td>1995-01-22</td>\n",
              "      <td>790761600000</td>\n",
              "      <td>17.373784</td>\n",
              "      <td>62545.621813</td>\n",
              "      <td>38863.417065</td>\n",
              "      <td>0.358283</td>\n",
              "      <td>139.372055</td>\n",
              "      <td>53598364.0</td>\n",
              "      <td>33304478.0</td>\n",
              "      <td>Earth</td>\n",
              "      <td>100</td>\n",
              "      <td>2017-05-15 06:18:21</td>\n",
              "      <td>0</td>\n",
              "      <td>0.109354</td>\n",
              "      <td>5.386</td>\n",
              "      <td>2458000.5</td>\n",
              "      <td>0.238179</td>\n",
              "      <td>1.145551</td>\n",
              "      <td>22.215210</td>\n",
              "      <td>80.211132</td>\n",
              "      <td>447.837013</td>\n",
              "      <td>0.872705</td>\n",
              "      <td>353.422394</td>\n",
              "      <td>1.418397</td>\n",
              "      <td>2.458222e+06</td>\n",
              "      <td>182.236432</td>\n",
              "      <td>0.803864</td>\n",
              "      <td>J2000</td>\n",
              "      <td>False</td>\n",
              "    </tr>\n",
              "    <tr>\n",
              "      <th>9</th>\n",
              "      <td>2306383</td>\n",
              "      <td>2306383</td>\n",
              "      <td>21.5</td>\n",
              "      <td>0.133216</td>\n",
              "      <td>0.297879</td>\n",
              "      <td>133.215567</td>\n",
              "      <td>297.879063</td>\n",
              "      <td>0.082776</td>\n",
              "      <td>0.185093</td>\n",
              "      <td>437.058960</td>\n",
              "      <td>977.293544</td>\n",
              "      <td>1995-01-22</td>\n",
              "      <td>790761600000</td>\n",
              "      <td>12.899610</td>\n",
              "      <td>46438.594999</td>\n",
              "      <td>28855.136987</td>\n",
              "      <td>0.151806</td>\n",
              "      <td>59.052433</td>\n",
              "      <td>22709816.0</td>\n",
              "      <td>14111226.0</td>\n",
              "      <td>Earth</td>\n",
              "      <td>30</td>\n",
              "      <td>2017-04-06 09:24:01</td>\n",
              "      <td>0</td>\n",
              "      <td>0.016907</td>\n",
              "      <td>6.623</td>\n",
              "      <td>2458000.5</td>\n",
              "      <td>0.551389</td>\n",
              "      <td>0.876125</td>\n",
              "      <td>2.059577</td>\n",
              "      <td>2.613682</td>\n",
              "      <td>299.535161</td>\n",
              "      <td>0.393040</td>\n",
              "      <td>253.765937</td>\n",
              "      <td>1.359211</td>\n",
              "      <td>2.457901e+06</td>\n",
              "      <td>119.861382</td>\n",
              "      <td>1.201862</td>\n",
              "      <td>J2000</td>\n",
              "      <td>True</td>\n",
              "    </tr>\n",
              "  </tbody>\n",
              "</table>\n",
              "</div>"
            ],
            "text/plain": [
              "   Neo Reference ID     Name  ...  Equinox  Hazardous\n",
              "0           3703080  3703080  ...    J2000       True\n",
              "1           3723955  3723955  ...    J2000      False\n",
              "2           2446862  2446862  ...    J2000       True\n",
              "3           3092506  3092506  ...    J2000      False\n",
              "4           3514799  3514799  ...    J2000       True\n",
              "5           3671135  3671135  ...    J2000      False\n",
              "6           2495323  2495323  ...    J2000      False\n",
              "7           2153315  2153315  ...    J2000      False\n",
              "8           2162463  2162463  ...    J2000      False\n",
              "9           2306383  2306383  ...    J2000       True\n",
              "\n",
              "[10 rows x 40 columns]"
            ]
          },
          "metadata": {
            "tags": []
          },
          "execution_count": 62
        }
      ]
    },
    {
      "cell_type": "code",
      "metadata": {
        "id": "TXgbRLGFu6eR",
        "colab_type": "code",
        "colab": {
          "base_uri": "https://localhost:8080/",
          "height": 268
        },
        "outputId": "190b2f85-ec9f-45b3-f0d6-0c6b237ae4d4"
      },
      "source": [
        "df.columns"
      ],
      "execution_count": 63,
      "outputs": [
        {
          "output_type": "execute_result",
          "data": {
            "text/plain": [
              "Index(['Neo Reference ID', 'Name', 'Absolute Magnitude', 'Est Dia in KM(min)',\n",
              "       'Est Dia in KM(max)', 'Est Dia in M(min)', 'Est Dia in M(max)',\n",
              "       'Est Dia in Miles(min)', 'Est Dia in Miles(max)',\n",
              "       'Est Dia in Feet(min)', 'Est Dia in Feet(max)', 'Close Approach Date',\n",
              "       'Epoch Date Close Approach', 'Relative Velocity km per sec',\n",
              "       'Relative Velocity km per hr', 'Miles per hour',\n",
              "       'Miss Dist.(Astronomical)', 'Miss Dist.(lunar)',\n",
              "       'Miss Dist.(kilometers)', 'Miss Dist.(miles)', 'Orbiting Body',\n",
              "       'Orbit ID', 'Orbit Determination Date', 'Orbit Uncertainity',\n",
              "       'Minimum Orbit Intersection', 'Jupiter Tisserand Invariant',\n",
              "       'Epoch Osculation', 'Eccentricity', 'Semi Major Axis', 'Inclination',\n",
              "       'Asc Node Longitude', 'Orbital Period', 'Perihelion Distance',\n",
              "       'Perihelion Arg', 'Aphelion Dist', 'Perihelion Time', 'Mean Anomaly',\n",
              "       'Mean Motion', 'Equinox', 'Hazardous'],\n",
              "      dtype='object')"
            ]
          },
          "metadata": {
            "tags": []
          },
          "execution_count": 63
        }
      ]
    },
    {
      "cell_type": "code",
      "metadata": {
        "id": "-Zadm3JjH4FG",
        "colab_type": "code",
        "colab": {
          "base_uri": "https://localhost:8080/",
          "height": 33
        },
        "outputId": "11d9db30-bee8-46e9-e0c6-5d2f4fb83f9a"
      },
      "source": [
        "df.shape"
      ],
      "execution_count": 64,
      "outputs": [
        {
          "output_type": "execute_result",
          "data": {
            "text/plain": [
              "(4687, 40)"
            ]
          },
          "metadata": {
            "tags": []
          },
          "execution_count": 64
        }
      ]
    },
    {
      "cell_type": "code",
      "metadata": {
        "id": "TcN2zmSsv0z8",
        "colab_type": "code",
        "colab": {
          "base_uri": "https://localhost:8080/",
          "height": 702
        },
        "outputId": "af25d7d6-1c27-4a55-a394-5005190287b7"
      },
      "source": [
        "print(df.isnull().sum())"
      ],
      "execution_count": 65,
      "outputs": [
        {
          "output_type": "stream",
          "text": [
            "Neo Reference ID                0\n",
            "Name                            0\n",
            "Absolute Magnitude              0\n",
            "Est Dia in KM(min)              0\n",
            "Est Dia in KM(max)              0\n",
            "Est Dia in M(min)               0\n",
            "Est Dia in M(max)               0\n",
            "Est Dia in Miles(min)           0\n",
            "Est Dia in Miles(max)           0\n",
            "Est Dia in Feet(min)            0\n",
            "Est Dia in Feet(max)            0\n",
            "Close Approach Date             0\n",
            "Epoch Date Close Approach       0\n",
            "Relative Velocity km per sec    0\n",
            "Relative Velocity km per hr     0\n",
            "Miles per hour                  0\n",
            "Miss Dist.(Astronomical)        0\n",
            "Miss Dist.(lunar)               0\n",
            "Miss Dist.(kilometers)          0\n",
            "Miss Dist.(miles)               0\n",
            "Orbiting Body                   0\n",
            "Orbit ID                        0\n",
            "Orbit Determination Date        0\n",
            "Orbit Uncertainity              0\n",
            "Minimum Orbit Intersection      0\n",
            "Jupiter Tisserand Invariant     0\n",
            "Epoch Osculation                0\n",
            "Eccentricity                    0\n",
            "Semi Major Axis                 0\n",
            "Inclination                     0\n",
            "Asc Node Longitude              0\n",
            "Orbital Period                  0\n",
            "Perihelion Distance             0\n",
            "Perihelion Arg                  0\n",
            "Aphelion Dist                   0\n",
            "Perihelion Time                 0\n",
            "Mean Anomaly                    0\n",
            "Mean Motion                     0\n",
            "Equinox                         0\n",
            "Hazardous                       0\n",
            "dtype: int64\n"
          ],
          "name": "stdout"
        }
      ]
    },
    {
      "cell_type": "code",
      "metadata": {
        "id": "1Ft1vJn_yf8f",
        "colab_type": "code",
        "colab": {
          "base_uri": "https://localhost:8080/",
          "height": 636
        },
        "outputId": "36e125be-a187-4f00-91cc-ab263ba1d446"
      },
      "source": [
        "correlation = df.corr(method='pearson')['Hazardous']\n",
        "correlation"
      ],
      "execution_count": 66,
      "outputs": [
        {
          "output_type": "execute_result",
          "data": {
            "text/plain": [
              "Neo Reference ID               -0.269028\n",
              "Name                           -0.269028\n",
              "Absolute Magnitude             -0.325522\n",
              "Est Dia in KM(min)              0.132424\n",
              "Est Dia in KM(max)              0.132424\n",
              "Est Dia in M(min)               0.132424\n",
              "Est Dia in M(max)               0.132424\n",
              "Est Dia in Miles(min)           0.132424\n",
              "Est Dia in Miles(max)           0.132424\n",
              "Est Dia in Feet(min)            0.132424\n",
              "Est Dia in Feet(max)            0.132424\n",
              "Epoch Date Close Approach      -0.079020\n",
              "Relative Velocity km per sec    0.191970\n",
              "Relative Velocity km per hr     0.191970\n",
              "Miles per hour                  0.191970\n",
              "Miss Dist.(Astronomical)        0.032407\n",
              "Miss Dist.(lunar)               0.032407\n",
              "Miss Dist.(kilometers)          0.032407\n",
              "Miss Dist.(miles)               0.032407\n",
              "Orbit ID                        0.247369\n",
              "Orbit Uncertainity             -0.328721\n",
              "Minimum Orbit Intersection     -0.288949\n",
              "Jupiter Tisserand Invariant    -0.003404\n",
              "Epoch Osculation                0.040940\n",
              "Eccentricity                    0.183269\n",
              "Semi Major Axis                -0.010770\n",
              "Inclination                     0.009607\n",
              "Asc Node Longitude              0.017536\n",
              "Orbital Period                 -0.011168\n",
              "Perihelion Distance            -0.207027\n",
              "Perihelion Arg                 -0.003865\n",
              "Aphelion Dist                   0.040800\n",
              "Perihelion Time                 0.038113\n",
              "Mean Anomaly                    0.054164\n",
              "Mean Motion                     0.013028\n",
              "Hazardous                       1.000000\n",
              "Name: Hazardous, dtype: float64"
            ]
          },
          "metadata": {
            "tags": []
          },
          "execution_count": 66
        }
      ]
    },
    {
      "cell_type": "code",
      "metadata": {
        "id": "LKS1tJ3pysNq",
        "colab_type": "code",
        "colab": {}
      },
      "source": [
        "# Dropping all columns with same correlation\n",
        "\n",
        "dataset = df[['Est Dia in KM(min)', 'Est Dia in KM(max)', 'Relative Velocity km per sec', 'Miss Dist.(kilometers)',\n",
        "             'Orbit Uncertainity', 'Minimum Orbit Intersection', 'Eccentricity', 'Perihelion Distance', 'Aphelion Dist', 'Hazardous']]"
      ],
      "execution_count": 67,
      "outputs": []
    },
    {
      "cell_type": "code",
      "metadata": {
        "id": "zoSGBc3Z0kZK",
        "colab_type": "code",
        "colab": {
          "base_uri": "https://localhost:8080/",
          "height": 100
        },
        "outputId": "98d76379-d9e0-4f8f-f5f3-2a9998f36b39"
      },
      "source": [
        "dataset.columns"
      ],
      "execution_count": 68,
      "outputs": [
        {
          "output_type": "execute_result",
          "data": {
            "text/plain": [
              "Index(['Est Dia in KM(min)', 'Est Dia in KM(max)',\n",
              "       'Relative Velocity km per sec', 'Miss Dist.(kilometers)',\n",
              "       'Orbit Uncertainity', 'Minimum Orbit Intersection', 'Eccentricity',\n",
              "       'Perihelion Distance', 'Aphelion Dist', 'Hazardous'],\n",
              "      dtype='object')"
            ]
          },
          "metadata": {
            "tags": []
          },
          "execution_count": 68
        }
      ]
    },
    {
      "cell_type": "code",
      "metadata": {
        "id": "mNdNEnRy0xlw",
        "colab_type": "code",
        "colab": {}
      },
      "source": [
        "dataset.columns = ['Minimum Distance', 'Maximum Distance', 'Relative Velocity', 'Miss Distance', 'Orbit Uncertainity',\n",
        "                   'Minimum Orbit Intersection', 'Eccentricity', 'Perihelion', 'Aphelion', 'Hazardous']"
      ],
      "execution_count": 69,
      "outputs": []
    },
    {
      "cell_type": "code",
      "metadata": {
        "id": "TG49ahhd1Xj0",
        "colab_type": "code",
        "colab": {
          "base_uri": "https://localhost:8080/",
          "height": 84
        },
        "outputId": "1d4453d1-2529-420d-de12-623eb9d68a9c"
      },
      "source": [
        "dataset.columns"
      ],
      "execution_count": 70,
      "outputs": [
        {
          "output_type": "execute_result",
          "data": {
            "text/plain": [
              "Index(['Minimum Distance', 'Maximum Distance', 'Relative Velocity',\n",
              "       'Miss Distance', 'Orbit Uncertainity', 'Minimum Orbit Intersection',\n",
              "       'Eccentricity', 'Perihelion', 'Aphelion', 'Hazardous'],\n",
              "      dtype='object')"
            ]
          },
          "metadata": {
            "tags": []
          },
          "execution_count": 70
        }
      ]
    },
    {
      "cell_type": "code",
      "metadata": {
        "id": "2M8l7mow1buR",
        "colab_type": "code",
        "colab": {}
      },
      "source": [
        "import numpy as np"
      ],
      "execution_count": 71,
      "outputs": []
    },
    {
      "cell_type": "code",
      "metadata": {
        "id": "NkzmDXuI6hW6",
        "colab_type": "code",
        "colab": {}
      },
      "source": [
        "X = dataset.iloc[:, :-1].values\n",
        "y = dataset.iloc[:, -1].values"
      ],
      "execution_count": 72,
      "outputs": []
    },
    {
      "cell_type": "code",
      "metadata": {
        "id": "0x4OPXoH8CrQ",
        "colab_type": "code",
        "colab": {
          "base_uri": "https://localhost:8080/",
          "height": 33
        },
        "outputId": "e9179883-3ae7-447f-b68c-f0c5a0d0acdc"
      },
      "source": [
        "# Encoding categorical data\n",
        "from sklearn.preprocessing import LabelEncoder\n",
        "\n",
        "enc = LabelEncoder()\n",
        "enc.fit_transform(y)"
      ],
      "execution_count": 73,
      "outputs": [
        {
          "output_type": "execute_result",
          "data": {
            "text/plain": [
              "array([1, 0, 1, ..., 0, 0, 0])"
            ]
          },
          "metadata": {
            "tags": []
          },
          "execution_count": 73
        }
      ]
    },
    {
      "cell_type": "code",
      "metadata": {
        "id": "wm0scd2N62Tv",
        "colab_type": "code",
        "colab": {}
      },
      "source": [
        "from sklearn.model_selection import train_test_split\n",
        "\n",
        "X_train, X_test, y_train, y_test = train_test_split(X, y, test_size = 0.2)"
      ],
      "execution_count": 74,
      "outputs": []
    },
    {
      "cell_type": "code",
      "metadata": {
        "id": "euS-62PW7J55",
        "colab_type": "code",
        "colab": {}
      },
      "source": [
        "from sklearn.preprocessing import StandardScaler\n",
        "\n",
        "scaler = StandardScaler()\n",
        "X_train = scaler.fit_transform(X_train)\n",
        "X_test = scaler.fit_transform(X_test)"
      ],
      "execution_count": 75,
      "outputs": []
    },
    {
      "cell_type": "code",
      "metadata": {
        "id": "DbGHZ5u87n6H",
        "colab_type": "code",
        "colab": {
          "base_uri": "https://localhost:8080/",
          "height": 100
        },
        "outputId": "d786f5c8-a3f1-4a92-9236-d9ce238d9bab"
      },
      "source": [
        "from sklearn.linear_model import LogisticRegression\n",
        "\n",
        "classifier = LogisticRegression()\n",
        "classifier.fit(X_train, y_train)"
      ],
      "execution_count": 76,
      "outputs": [
        {
          "output_type": "execute_result",
          "data": {
            "text/plain": [
              "LogisticRegression(C=1.0, class_weight=None, dual=False, fit_intercept=True,\n",
              "                   intercept_scaling=1, l1_ratio=None, max_iter=100,\n",
              "                   multi_class='auto', n_jobs=None, penalty='l2',\n",
              "                   random_state=None, solver='lbfgs', tol=0.0001, verbose=0,\n",
              "                   warm_start=False)"
            ]
          },
          "metadata": {
            "tags": []
          },
          "execution_count": 76
        }
      ]
    },
    {
      "cell_type": "code",
      "metadata": {
        "id": "_xayeU9PA6Rr",
        "colab_type": "code",
        "colab": {}
      },
      "source": [
        "prediction = classifier.predict(X_test)"
      ],
      "execution_count": 77,
      "outputs": []
    },
    {
      "cell_type": "code",
      "metadata": {
        "id": "FshrGVKMBPDk",
        "colab_type": "code",
        "colab": {
          "base_uri": "https://localhost:8080/",
          "height": 84
        },
        "outputId": "49d54488-825e-43bb-9763-61eeb010fcbb"
      },
      "source": [
        "from sklearn.metrics import confusion_matrix, accuracy_score\n",
        "\n",
        "conf = confusion_matrix(y_test, prediction)\n",
        "acc = accuracy_score(y_test, prediction)\n",
        "print(f'Confusion matrix is: \\n { conf } \\n Accuracy Score is: { acc }')"
      ],
      "execution_count": 78,
      "outputs": [
        {
          "output_type": "stream",
          "text": [
            "Confusion matrix is: \n",
            " [[733  23]\n",
            " [ 77 105]] \n",
            " Accuracy Score is: 0.8933901918976546\n"
          ],
          "name": "stdout"
        }
      ]
    },
    {
      "cell_type": "code",
      "metadata": {
        "id": "e6kSO2U3Bn_A",
        "colab_type": "code",
        "colab": {
          "base_uri": "https://localhost:8080/",
          "height": 67
        },
        "outputId": "ad523426-c96d-448e-f569-a28c4bbbf389"
      },
      "source": [
        "from sklearn.neighbors import KNeighborsClassifier\n",
        "\n",
        "classifier = KNeighborsClassifier(n_neighbors=7, metric='euclidean')\n",
        "classifier.fit(X_train, y_train)"
      ],
      "execution_count": 79,
      "outputs": [
        {
          "output_type": "execute_result",
          "data": {
            "text/plain": [
              "KNeighborsClassifier(algorithm='auto', leaf_size=30, metric='euclidean',\n",
              "                     metric_params=None, n_jobs=None, n_neighbors=7, p=2,\n",
              "                     weights='uniform')"
            ]
          },
          "metadata": {
            "tags": []
          },
          "execution_count": 79
        }
      ]
    },
    {
      "cell_type": "code",
      "metadata": {
        "id": "5AwpyLQ8FI1t",
        "colab_type": "code",
        "colab": {}
      },
      "source": [
        "prediction = classifier.predict(X_test)"
      ],
      "execution_count": 80,
      "outputs": []
    },
    {
      "cell_type": "code",
      "metadata": {
        "id": "e89OYC6ZFcOX",
        "colab_type": "code",
        "colab": {
          "base_uri": "https://localhost:8080/",
          "height": 84
        },
        "outputId": "fcf91801-ec78-41d1-f835-728b5b59c724"
      },
      "source": [
        "from sklearn.metrics import confusion_matrix, accuracy_score\n",
        "\n",
        "conf = confusion_matrix(y_test, prediction)\n",
        "acc = accuracy_score(y_test, prediction)\n",
        "print(f'Confusion matrix is: \\n { conf } \\n Accuracy Score is: { acc }')"
      ],
      "execution_count": 81,
      "outputs": [
        {
          "output_type": "stream",
          "text": [
            "Confusion matrix is: \n",
            " [[731  25]\n",
            " [ 78 104]] \n",
            " Accuracy Score is: 0.8901918976545842\n"
          ],
          "name": "stdout"
        }
      ]
    },
    {
      "cell_type": "code",
      "metadata": {
        "id": "PNYCr55zFeEY",
        "colab_type": "code",
        "colab": {
          "base_uri": "https://localhost:8080/",
          "height": 84
        },
        "outputId": "bc58c94c-81c5-4380-8b21-29188c246e45"
      },
      "source": [
        "from sklearn.svm import SVC\n",
        "\n",
        "classifier = SVC(kernel = 'linear')\n",
        "classifier.fit(X_train, y_train)"
      ],
      "execution_count": 82,
      "outputs": [
        {
          "output_type": "execute_result",
          "data": {
            "text/plain": [
              "SVC(C=1.0, break_ties=False, cache_size=200, class_weight=None, coef0=0.0,\n",
              "    decision_function_shape='ovr', degree=3, gamma='scale', kernel='linear',\n",
              "    max_iter=-1, probability=False, random_state=None, shrinking=True,\n",
              "    tol=0.001, verbose=False)"
            ]
          },
          "metadata": {
            "tags": []
          },
          "execution_count": 82
        }
      ]
    },
    {
      "cell_type": "code",
      "metadata": {
        "id": "gt_qamZyHGxG",
        "colab_type": "code",
        "colab": {}
      },
      "source": [
        "prediction = classifier.predict(X_test)"
      ],
      "execution_count": 83,
      "outputs": []
    },
    {
      "cell_type": "code",
      "metadata": {
        "id": "KbxyOOvFHNWp",
        "colab_type": "code",
        "colab": {
          "base_uri": "https://localhost:8080/",
          "height": 84
        },
        "outputId": "6096cb3e-efef-44bc-da09-2a2669a706a1"
      },
      "source": [
        "from sklearn.metrics import confusion_matrix, accuracy_score\n",
        "\n",
        "conf = confusion_matrix(y_test, prediction)\n",
        "acc = accuracy_score(y_test, prediction)\n",
        "print(f'Confusion matrix is: \\n { conf } \\n Accuracy Score is: { acc }')"
      ],
      "execution_count": 84,
      "outputs": [
        {
          "output_type": "stream",
          "text": [
            "Confusion matrix is: \n",
            " [[729  27]\n",
            " [ 72 110]] \n",
            " Accuracy Score is: 0.894456289978678\n"
          ],
          "name": "stdout"
        }
      ]
    },
    {
      "cell_type": "code",
      "metadata": {
        "id": "-xeIqjpLHQF9",
        "colab_type": "code",
        "colab": {
          "base_uri": "https://localhost:8080/",
          "height": 117
        },
        "outputId": "8f47457b-6fae-4ae1-f4c4-01a61498cd81"
      },
      "source": [
        "from sklearn.tree import DecisionTreeClassifier\n",
        "\n",
        "classifier = DecisionTreeClassifier(criterion='gini')\n",
        "classifier.fit(X_train, y_train)"
      ],
      "execution_count": 85,
      "outputs": [
        {
          "output_type": "execute_result",
          "data": {
            "text/plain": [
              "DecisionTreeClassifier(ccp_alpha=0.0, class_weight=None, criterion='gini',\n",
              "                       max_depth=None, max_features=None, max_leaf_nodes=None,\n",
              "                       min_impurity_decrease=0.0, min_impurity_split=None,\n",
              "                       min_samples_leaf=1, min_samples_split=2,\n",
              "                       min_weight_fraction_leaf=0.0, presort='deprecated',\n",
              "                       random_state=None, splitter='best')"
            ]
          },
          "metadata": {
            "tags": []
          },
          "execution_count": 85
        }
      ]
    },
    {
      "cell_type": "code",
      "metadata": {
        "id": "YL-Amo6TI6g5",
        "colab_type": "code",
        "colab": {}
      },
      "source": [
        "prediction = classifier.predict(X_test)"
      ],
      "execution_count": 86,
      "outputs": []
    },
    {
      "cell_type": "code",
      "metadata": {
        "id": "__atu9JrJAet",
        "colab_type": "code",
        "colab": {
          "base_uri": "https://localhost:8080/",
          "height": 84
        },
        "outputId": "4102aa54-b5f4-401d-e8f3-a11adb7edefc"
      },
      "source": [
        "from sklearn.metrics import confusion_matrix, accuracy_score\n",
        "\n",
        "conf = confusion_matrix(y_test, prediction)\n",
        "acc = accuracy_score(y_test, prediction)\n",
        "print(f'Confusion matrix is: \\n { conf } \\n Accuracy Score is: { acc }')"
      ],
      "execution_count": 87,
      "outputs": [
        {
          "output_type": "stream",
          "text": [
            "Confusion matrix is: \n",
            " [[755   1]\n",
            " [ 40 142]] \n",
            " Accuracy Score is: 0.9562899786780383\n"
          ],
          "name": "stdout"
        }
      ]
    },
    {
      "cell_type": "code",
      "metadata": {
        "id": "k7YtXIhiJDeK",
        "colab_type": "code",
        "colab": {
          "base_uri": "https://localhost:8080/",
          "height": 150
        },
        "outputId": "ae6ba93d-9af8-459a-eb33-e1309dc69c91"
      },
      "source": [
        "from sklearn.ensemble import RandomForestClassifier\n",
        "\n",
        "classifier = RandomForestClassifier(n_estimators=10)\n",
        "classifier.fit(X_train, y_train)"
      ],
      "execution_count": 88,
      "outputs": [
        {
          "output_type": "execute_result",
          "data": {
            "text/plain": [
              "RandomForestClassifier(bootstrap=True, ccp_alpha=0.0, class_weight=None,\n",
              "                       criterion='gini', max_depth=None, max_features='auto',\n",
              "                       max_leaf_nodes=None, max_samples=None,\n",
              "                       min_impurity_decrease=0.0, min_impurity_split=None,\n",
              "                       min_samples_leaf=1, min_samples_split=2,\n",
              "                       min_weight_fraction_leaf=0.0, n_estimators=10,\n",
              "                       n_jobs=None, oob_score=False, random_state=None,\n",
              "                       verbose=0, warm_start=False)"
            ]
          },
          "metadata": {
            "tags": []
          },
          "execution_count": 88
        }
      ]
    },
    {
      "cell_type": "code",
      "metadata": {
        "id": "pbNjarB5JzH9",
        "colab_type": "code",
        "colab": {}
      },
      "source": [
        "prediction = classifier.predict(X_test)"
      ],
      "execution_count": 89,
      "outputs": []
    },
    {
      "cell_type": "code",
      "metadata": {
        "id": "VsKEDsw9J2Fm",
        "colab_type": "code",
        "colab": {
          "base_uri": "https://localhost:8080/",
          "height": 84
        },
        "outputId": "163f783f-eb7b-4ed7-d49d-a8d42c5f918c"
      },
      "source": [
        "from sklearn.metrics import confusion_matrix, accuracy_score\n",
        "\n",
        "conf = confusion_matrix(y_test, prediction)\n",
        "acc = accuracy_score(y_test, prediction)\n",
        "print(f'Confusion matrix is: \\n { conf } \\n Accuracy Score is: { acc }')"
      ],
      "execution_count": 90,
      "outputs": [
        {
          "output_type": "stream",
          "text": [
            "Confusion matrix is: \n",
            " [[756   0]\n",
            " [ 42 140]] \n",
            " Accuracy Score is: 0.9552238805970149\n"
          ],
          "name": "stdout"
        }
      ]
    },
    {
      "cell_type": "code",
      "metadata": {
        "id": "S1MV84HpJ4TT",
        "colab_type": "code",
        "colab": {}
      },
      "source": [
        ""
      ],
      "execution_count": null,
      "outputs": []
    }
  ]
}